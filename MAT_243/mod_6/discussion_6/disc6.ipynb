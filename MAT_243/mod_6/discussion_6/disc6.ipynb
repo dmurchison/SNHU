{
 "cells": [
  {
   "cell_type": "markdown",
   "metadata": {},
   "source": [
    "# Module Six Discussion: Multiple Regression\n",
    "\n",
    "This notebook contains the step-by-step directions for your Module Six discussion. It is very important to run through the steps in order. Some steps depend on the outputs of earlier steps. Once you have completed the steps in this notebook, be sure to answer the questions about this activity in the discussion for this module."
   ]
  },
  {
   "cell_type": "markdown",
   "metadata": {},
   "source": [
    "## Step 1: Generating cars dataset\n",
    "\n",
    "This block of Python code will generate the sample data for you. You will not be generating the data set using numpy module this week. Instead, the data set will be imported from a CSV file. To make the data unique to you, a random sample of size 30, without replacement, will be drawn from the data in the CSV file. The data set will be saved in a Python dataframe that will be used in later calculations."
   ]
  },
  {
   "cell_type": "code",
   "execution_count": 2,
   "metadata": {},
   "outputs": [
    {
     "name": "stdout",
     "output_type": "stream",
     "text": [
      "Cars data frame (showing only the first five observations)\n",
      "\n"
     ]
    },
    {
     "data": {
      "text/html": [
       "<table border=\"1\" class=\"dataframe\">\n",
       "  <thead>\n",
       "    <tr style=\"text-align: right;\">\n",
       "      <th></th>\n",
       "      <th>Unnamed: 0</th>\n",
       "      <th>mpg</th>\n",
       "      <th>cyl</th>\n",
       "      <th>disp</th>\n",
       "      <th>hp</th>\n",
       "      <th>drat</th>\n",
       "      <th>wt</th>\n",
       "      <th>qsec</th>\n",
       "      <th>vs</th>\n",
       "      <th>am</th>\n",
       "      <th>gear</th>\n",
       "      <th>carb</th>\n",
       "    </tr>\n",
       "  </thead>\n",
       "  <tbody>\n",
       "    <tr>\n",
       "      <th>1</th>\n",
       "      <td>Mazda RX4 Wag</td>\n",
       "      <td>21.0</td>\n",
       "      <td>6</td>\n",
       "      <td>160.0</td>\n",
       "      <td>110</td>\n",
       "      <td>3.90</td>\n",
       "      <td>2.875</td>\n",
       "      <td>17.02</td>\n",
       "      <td>0</td>\n",
       "      <td>1</td>\n",
       "      <td>4</td>\n",
       "      <td>4</td>\n",
       "    </tr>\n",
       "    <tr>\n",
       "      <th>21</th>\n",
       "      <td>Dodge Challenger</td>\n",
       "      <td>15.5</td>\n",
       "      <td>8</td>\n",
       "      <td>318.0</td>\n",
       "      <td>150</td>\n",
       "      <td>2.76</td>\n",
       "      <td>3.520</td>\n",
       "      <td>16.87</td>\n",
       "      <td>0</td>\n",
       "      <td>0</td>\n",
       "      <td>3</td>\n",
       "      <td>2</td>\n",
       "    </tr>\n",
       "    <tr>\n",
       "      <th>4</th>\n",
       "      <td>Hornet Sportabout</td>\n",
       "      <td>18.7</td>\n",
       "      <td>8</td>\n",
       "      <td>360.0</td>\n",
       "      <td>175</td>\n",
       "      <td>3.15</td>\n",
       "      <td>3.440</td>\n",
       "      <td>17.02</td>\n",
       "      <td>0</td>\n",
       "      <td>0</td>\n",
       "      <td>3</td>\n",
       "      <td>2</td>\n",
       "    </tr>\n",
       "    <tr>\n",
       "      <th>24</th>\n",
       "      <td>Pontiac Firebird</td>\n",
       "      <td>19.2</td>\n",
       "      <td>8</td>\n",
       "      <td>400.0</td>\n",
       "      <td>175</td>\n",
       "      <td>3.08</td>\n",
       "      <td>3.845</td>\n",
       "      <td>17.05</td>\n",
       "      <td>0</td>\n",
       "      <td>0</td>\n",
       "      <td>3</td>\n",
       "      <td>2</td>\n",
       "    </tr>\n",
       "    <tr>\n",
       "      <th>10</th>\n",
       "      <td>Merc 280C</td>\n",
       "      <td>17.8</td>\n",
       "      <td>6</td>\n",
       "      <td>167.6</td>\n",
       "      <td>123</td>\n",
       "      <td>3.92</td>\n",
       "      <td>3.440</td>\n",
       "      <td>18.90</td>\n",
       "      <td>1</td>\n",
       "      <td>0</td>\n",
       "      <td>4</td>\n",
       "      <td>4</td>\n",
       "    </tr>\n",
       "  </tbody>\n",
       "</table>"
      ],
      "text/plain": [
       "<IPython.core.display.HTML object>"
      ]
     },
     "metadata": {},
     "output_type": "display_data"
    }
   ],
   "source": [
    "import pandas as pd\n",
    "from IPython.display import display, HTML\n",
    "\n",
    "# read data from mtcars.csv data set.\n",
    "cars_df_orig = pd.read_csv(\"mtcars.csv\")\n",
    "\n",
    "# randomly pick 30 observations from the data set to make the data set unique to you.\n",
    "cars_df = cars_df_orig.sample(n=30, replace=False)\n",
    "\n",
    "# print only the first five observations in the dataset.\n",
    "print(\"Cars data frame (showing only the first five observations)\\n\")\n",
    "display(HTML(cars_df.head().to_html()))"
   ]
  },
  {
   "cell_type": "markdown",
   "metadata": {},
   "source": [
    "## Step 2: Scatterplot of miles per gallon against weight\n",
    "\n",
    "The block of code below will create a scatterplot of the variables \"miles per gallon\" (coded as mpg in the data set) and \"weight\" of the car (coded as wt)."
   ]
  },
  {
   "cell_type": "code",
   "execution_count": 3,
   "metadata": {},
   "outputs": [
    {
     "data": {
      "image/png": "[encoded data removed]",
      "text/plain": [
       "<Figure size 640x480 with 1 Axes>"
      ]
     },
     "metadata": {},
     "output_type": "display_data"
    }
   ],
   "source": [
    "import matplotlib.pyplot as plt\n",
    "\n",
    "# create scatterplot of variables mpg against wt.\n",
    "plt.plot(cars_df[\"wt\"], cars_df[\"mpg\"], 'o', color='red')\n",
    "\n",
    "# set a title for the plot, x-axis, and y-axis.\n",
    "plt.title('MPG against Weight')\n",
    "plt.xlabel('Weight (1000s lbs)')\n",
    "plt.ylabel('MPG')\n",
    "\n",
    "# show the plot.\n",
    "plt.show()"
   ]
  },
  {
   "cell_type": "markdown",
   "metadata": {},
   "source": [
    "## Step 3: Scatterplot of miles per gallon against horsepower\n",
    "\n",
    "The block of code below will create a scatterplot of the variables \"miles per gallon\" (coded as mpg in the data set) and \"horsepower\" of the car (coded as hp)."
   ]
  },
  {
   "cell_type": "code",
   "execution_count": 7,
   "metadata": {},
   "outputs": [
    {
     "data": {
      "image/png": "[encoded data removed]",
      "text/plain": [
       "<Figure size 640x480 with 1 Axes>"
      ]
     },
     "metadata": {},
     "output_type": "display_data"
    }
   ],
   "source": [
    "import matplotlib.pyplot as plt\n",
    "\n",
    "# create scatterplot of variables mpg against hp.\n",
    "plt.plot(cars_df[\"hp\"], cars_df[\"mpg\"], 'o', color='blue')\n",
    "\n",
    "# set a title for the plot, x-axis, and y-axis.\n",
    "plt.title('MPG against Horsepower')\n",
    "plt.xlabel('Horsepower')\n",
    "plt.ylabel('MPG')\n",
    "\n",
    "# show the plot.\n",
    "plt.show()"
   ]
  },
  {
   "cell_type": "markdown",
   "metadata": {},
   "source": [
    "## Step 4: Correlation matrix for miles per gallon, weight and horsepower\n",
    "\n",
    "Now you will calculate the correlation coefficient between the variables \"miles per gallon\" and \"weight\". You will also calculate the correlation coefficient between the variables \"miles per gallon\" and \"horsepower\". The corr method of a dataframe returns the correlation matrix with the correlation coefficients between all variables in the dataframe. You will specify to only return the matrix for the three variables."
   ]
  },
  {
   "cell_type": "code",
   "execution_count": 5,
   "metadata": {},
   "outputs": [
    {
     "name": "stdout",
     "output_type": "stream",
     "text": [
      "         mpg       wt\n",
      "mpg  1.00000 -0.86855\n",
      "wt  -0.86855  1.00000\n",
      "        mpg      hp\n",
      "mpg  1.0000 -0.8152\n",
      "hp  -0.8152  1.0000\n",
      "         mpg        wt        hp\n",
      "mpg  1.00000 -0.868550 -0.815200\n",
      "wt  -0.86855  1.000000  0.707493\n",
      "hp  -0.81520  0.707493  1.000000\n"
     ]
    }
   ],
   "source": [
    "# create correlation matrix for mpg, wt, and hp.\n",
    "\n",
    "# The correlation coefficient between mpg and wt is contained in the cell for mpg row and wt column (or wt row and mpg column).\n",
    "wt_corr = cars_df[['mpg','wt']].corr()\n",
    "print(wt_corr)\n",
    "\n",
    "# The correlation coefficient between mpg and hp is contained in the cell for mpg row and hp column (or hp row and mpg column).\n",
    "hp_corr = cars_df[['mpg','hp']].corr()\n",
    "print(hp_corr)\n",
    "\n",
    "mpg_wt_corr = cars_df[['mpg','wt','hp']].corr()\n",
    "print(mpg_wt_corr)"
   ]
  },
  {
   "cell_type": "markdown",
   "metadata": {},
   "source": [
    "## Step 5: Multiple regression model to predict miles per gallon using weight and horsepower¶\n",
    "\n",
    "This block of code produces a multiple regression model with \"miles per gallon\" as the response variable, and \"weight\" and \"horsepower\" as predictor variables. The ols method in statsmodels.formula.api submodule returns all statistics for this multiple regression model."
   ]
  },
  {
   "cell_type": "code",
   "execution_count": 6,
   "metadata": {},
   "outputs": [
    {
     "name": "stdout",
     "output_type": "stream",
     "text": [
      "                            OLS Regression Results                            \n",
      "==============================================================================\n",
      "Dep. Variable:                    mpg   R-squared:                       0.835\n",
      "Model:                            OLS   Adj. R-squared:                  0.823\n",
      "Method:                 Least Squares   F-statistic:                     68.34\n",
      "Date:                Sun, 13 Oct 2024   Prob (F-statistic):           2.72e-11\n",
      "Time:                        15:12:23   Log-Likelihood:                -66.670\n",
      "No. Observations:                  30   AIC:                             139.3\n",
      "Df Residuals:                      27   BIC:                             143.5\n",
      "Df Model:                           2                                         \n",
      "Covariance Type:            nonrobust                                         \n",
      "==============================================================================\n",
      "                 coef    std err          t      P>|t|      [0.025      0.975]\n",
      "------------------------------------------------------------------------------\n",
      "Intercept     36.0795      1.519     23.752      0.000      32.963      39.196\n",
      "wt            -3.3485      0.634     -5.282      0.000      -4.649      -2.048\n",
      "hp            -0.0377      0.010     -3.633      0.001      -0.059      -0.016\n",
      "==============================================================================\n",
      "Omnibus:                        6.528   Durbin-Watson:                   2.108\n",
      "Prob(Omnibus):                  0.038   Jarque-Bera (JB):                4.789\n",
      "Skew:                           0.888   Prob(JB):                       0.0912\n",
      "Kurtosis:                       3.824   Cond. No.                         570.\n",
      "==============================================================================\n",
      "\n",
      "Notes:\n",
      "[1] Standard Errors assume that the covariance matrix of the errors is correctly specified.\n"
     ]
    }
   ],
   "source": [
    "from statsmodels.formula.api import ols\n",
    "\n",
    "# create the multiple regression model with mpg as the response variable; weight and horsepower as predictor variables.\n",
    "model = ols('mpg ~ wt+hp', data=cars_df).fit()\n",
    "print(model.summary())"
   ]
  },
  {
   "cell_type": "markdown",
   "metadata": {},
   "source": [
    "# Multiple Regression Equation\n",
    "\n",
    "Based on the output, the multiple regression equation is:\n",
    "\n",
    "* MPG = 36.0795 - 3.3485wt - 0.0377hp\n",
    "\n",
    "The predicted value of miles per gallon for a car that has 2.78 (2,780 lbs) weight and 225 horsepower:\n",
    "\n",
    "* MPG = 36.0795 - 3.3485(2.78) - 0.0377(225)\n",
    "\n",
    "\n",
    "\n",
    "\n",
    "\n"
   ]
  }
 ],
 "metadata": {
  "kernelspec": {
   "display_name": "3.12.4",
   "language": "python",
   "name": "python3"
  },
  "language_info": {
   "codemirror_mode": {
    "name": "ipython",
    "version": 3
   },
   "file_extension": ".py",
   "mimetype": "text/x-python",
   "name": "python",
   "nbconvert_exporter": "python",
   "pygments_lexer": "ipython3",
   "version": "3.12.4"
  }
 },
 "nbformat": 4,
 "nbformat_minor": 2
}
