{
 "cells": [
  {
   "cell_type": "markdown",
   "metadata": {},
   "source": [
    "# Project Two: Hypothesis Testing¶\n",
    "\n",
    "This notebook contains the step-by-step directions for Project Two. It is very important to run through the steps in order. Some steps depend on the outputs of earlier steps. Once you have completed the steps in this notebook, be sure to write your summary report.\n",
    "\n",
    "You are a data analyst for a basketball team and have access to a large set of historical data that you can use to analyze performance patterns. The coach of the team and your management have requested that you perform several hypothesis tests to statistically validate claims about your team's performance. This analysis will provide evidence for these claims and help make key decisions to improve the performance of the team. You will use the Python programming language to perform the statistical analyses and then prepare a report of your findings for the team’s management. Since the managers are not data analysts, you will need to interpret your findings and describe their practical implications.\n",
    "\n",
    "There are four important variables in the data set that you will study in Project Two.\n",
    "\n",
    "| Variable | What it Represents                                          |\n",
    "| -------- | ----------------------------------------------------------- |\n",
    "|  pts     | Points scored by the team in a game                         |\n",
    "|  elo_n   | A measure of relative skill level of the team in the league |\n",
    "| year_id  | Year when the team played the games                         |\n",
    "| fran_id  | Name of the NBA team                                        |\n",
    "\n",
    "The ELO rating, represented by the variable **elo_n**, is used as a measure of the relative skill of a team. This measure is inferred based on the final score of a game, the game location, and the outcome of the game relative to the probability of that outcome. The higher the number, the higher the relative skill of a team.\n",
    "\n",
    "In addition to studying data on your own team, your management has also assigned you a second team so that you can compare its performance with your own team's.\n",
    "\n",
    "| Team          | What it Represents                                                            |\n",
    "| ------------- | ----------------------------------------------------------------------------- |\n",
    "| Your Team     | The team that has hired you as an analyst                                     |\n",
    "| Assigned Team | The team that the management has assigned to you to compare against your team |\n",
    "\n",
    "Reminder: It may be beneficial to review the summary report template for Project Two prior to starting this Python script. That will give you an idea of the questions you will need to answer with the outputs of this script."
   ]
  }
 ],
 "metadata": {
  "kernelspec": {
   "display_name": "3.12.4",
   "language": "python",
   "name": "python3"
  },
  "language_info": {
   "name": "python",
   "version": "3.12.4"
  }
 },
 "nbformat": 4,
 "nbformat_minor": 2
}
