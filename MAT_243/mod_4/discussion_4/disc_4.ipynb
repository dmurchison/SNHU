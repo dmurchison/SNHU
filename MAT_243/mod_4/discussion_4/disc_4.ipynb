{
 "cells": [
  {
   "cell_type": "markdown",
   "metadata": {},
   "source": [
    "## Step 1: Generating sample data\n",
    "\n",
    "This block of Python code will generate two samples, both of size 50, that you will use in this discussion. The datasets will be unique to you and therefore your answers will be unique as well. The numpy module in Python allows you to create a data set using a Normal distribution. The data sets will be saved in Python dataframes and will be used in later calculations."
   ]
  },
  {
   "cell_type": "code",
   "execution_count": 1,
   "metadata": {},
   "outputs": [
    {
     "name": "stdout",
     "output_type": "stream",
     "text": [
      "Diameters data frame of the first sample (showing only the first five observations)\n",
      "   diameters\n",
      "0       2.55\n",
      "1       2.11\n",
      "2       3.19\n",
      "3       1.56\n",
      "4       2.39\n",
      "\n",
      "Diameters data frame of the second sample (showing only the first five observations)\n",
      "   diameters\n",
      "0       2.96\n",
      "1       1.60\n",
      "2       2.50\n",
      "3       2.86\n",
      "4       3.14\n"
     ]
    }
   ],
   "source": [
    "import pandas as pd\n",
    "import numpy as np\n",
    "\n",
    "# create 50 randomly chosen values from a normal distribution. (arbitrarily using mean=2.48 and standard deviation=0.500)\n",
    "diameters_sample1 = np.random.normal(2.48,0.500,50)\n",
    "\n",
    "# convert the array into a dataframe with the column name \"diameters\" using pandas library\n",
    "diameters_sample1_df = pd.DataFrame(diameters_sample1, columns=['diameters'])\n",
    "diameters_sample1_df = diameters_sample1_df.round(2)\n",
    "\n",
    "# create 50 randomly chosen values from a normal distribution. (arbitrarily using mean=2.50 and standard deviation=0.750)\n",
    "diameters_sample2 = np.random.normal(2.50,0.750,50)\n",
    "\n",
    "# convert the array into a dataframe with the column name \"diameters\" using pandas library\n",
    "diameters_sample2_df = pd.DataFrame(diameters_sample2, columns=['diameters'])\n",
    "diameters_sample2_df = diameters_sample2_df.round(2)\n",
    "\n",
    "# print the dataframe to see the first 5 observations (note that the index of dataframe starts at 0)\n",
    "print(\"Diameters data frame of the first sample (showing only the first five observations)\")\n",
    "print(diameters_sample1_df.head())\n",
    "print()\n",
    "print(\"Diameters data frame of the second sample (showing only the first five observations)\")\n",
    "print(diameters_sample2_df.head())"
   ]
  },
  {
   "cell_type": "markdown",
   "metadata": {},
   "source": [
    "## Step 2: Performing hypothesis test for the difference in population proportions\n",
    "\n",
    "The z-test for proportions can be used to test for the difference in proportions. The proportions_ztest method in statsmodels.stats.proportion submodule runs this test. The input to this method is a list of counts meeting a certain condition (given in the problem statement) and a list of sample sizes for the two samples.\n",
    "\n",
    "- Counts    Python list that is assigned the number of observations in each sample with diameter values less than 2.20.\n",
    "- n         Python list that is assigned the total number of observations in each sample."
   ]
  },
  {
   "cell_type": "code",
   "execution_count": 2,
   "metadata": {},
   "outputs": [
    {
     "name": "stdout",
     "output_type": "stream",
     "text": [
      "test-statistic = -0.89\n",
      "two tailed p-value = 0.1865\n"
     ]
    }
   ],
   "source": [
    "from statsmodels.stats.proportion import proportions_ztest\n",
    "\n",
    "# number of observations in the first sample with diameter values less than 2.20.\n",
    "count1 = len(diameters_sample1_df[diameters_sample1_df['diameters']<2.20])\n",
    "\n",
    "# number of observations in the second sample with diameter values less than 2.20.\n",
    "count2 = len(diameters_sample2_df[diameters_sample2_df['diameters']<2.20])\n",
    "\n",
    "# counts Python list\n",
    "counts = [count1, count2]\n",
    "\n",
    "\n",
    "# number of observations in the first sample\n",
    "n1 = len(diameters_sample1_df)\n",
    "\n",
    "# number of observations in the second sample\n",
    "n2 = len(diameters_sample2_df)\n",
    "\n",
    "# n Python list\n",
    "n = [n1, n2]\n",
    "\n",
    "# perform the hypothesis test. output is a Python tuple that contains test_statistic and the two-sided P_value.\n",
    "test_statistic, p_value = proportions_ztest(counts, n)\n",
    "\n",
    "# To perform a one-tailed test, divide the two-tailed p-value by 2.\n",
    "p_value = p_value/2\n",
    "\n",
    "\n",
    "\n",
    "\n",
    "print(\"test-statistic =\", round(test_statistic,2))\n",
    "print(\"two tailed p-value =\", round(p_value,4))"
   ]
  },
  {
   "cell_type": "markdown",
   "metadata": {},
   "source": [
    "## Question 1:\n",
    "\n",
    "You are given the following problem:\n",
    "A factory claims that the proportion of ball bearings with diameter values less than 2.20 cm in the existing manufacturing process is the same as the proportion in the new process. At alpha = 0.05, is there enough evidence to support the factory's claim?\n",
    "\n",
    "1) Define the null and alternative hypotheses in mathematical terms as well as in words.\n",
    "2) Identify the level of significance.\n",
    "3) Include the test statistic and the P-value. See Step 2 in the Python script. (Note that Python methods return two tailed P-values. You must report the correct P-value based on the alternative hypothesis.)\n",
    "4) Provide a conclusion and interpretation of the test: Should the null hypothesis be rejected? Why or why not?\n",
    "\n",
    "1a) The null hypothesis is that the proportion of ball bearings with diameter values less than 2.20 cm in the existing manufacturing process is the same as the proportion in the new process, mathematically represented as H0: p1 = p2. The alternative hypothesis is that the proportion of ball bearings with diameter values less than 2.20 cm in the existing manufacturing process is different from the proportion in the new process, mathematically represented as H1: p1 ≠ p2. Making this a two-tailed test.\n",
    "2a) The level of significance is 0.05.\n",
    "3a) The test statistic is -0. The P-value is 1.0. Since the P-value is greater than the level of significance, we fail to reject the null hypothesis.\n",
    "4a) The null hypothesis should not be rejected. There is not enough evidence to support the factory's claim that the proportion of ball bearings with diameter values less than 2.20 cm in the existing manufacturing process is the same as the proportion in the new process.\n",
    "\n",
    "If the p-value was 0.002 (less than 0.05), we would reject the null hypothesis and conclude that there is enough evidence to support the factory's claim that the proportion of ball bearings with diameter values less than 2.20 cm in the existing manufacturing process is the same as the proportion in the new process.\n",
    "\n",
    "\n",
    "## Question 2:\n",
    "\n",
    "The difference between a paired t-test and a two-sample t-test is that the paired t-test is used to compare the means of two related groups, whereas the two-sample t-test is used to compare the means of two independent groups. The paired t-test is used when the data is paired, such as when the same group is tested at two different times (e.g., before and after a treatment). The two-sample t-test is used when the data is not paired, such as when two different groups are tested.\n",
    "\n",
    "To perform a paired t-test with python you can use the ttest_rel method in the scipy.stats module. The input to this method is two samples that are paired. The output is the test statistic and the P-value. \n",
    "\n",
    "To perform a two-sample t-test with python you can use the ttest_ind method in the scipy.stats module. The input to this method is two samples that are independent. The output is the test statistic and the P-value. The inputs to the ttest_ind method are the two samples (aka ) and the alternative hypothesis. The alternative hypothesis can be 'two-sided', 'less', or 'greater'. The default is 'two-sided'.\n",
    " Example of a two-sample t-test: ttest_ind(sample1, sample2, alternative='two-sided')\n",
    " ```python\n",
    "from scipy.stats import ttest_ind\n",
    "ttest_ind(sample1, sample2, alternative='two-sided')\n",
    "```\n",
    "\n",
    "When using the tt_ind method, if you have a two-tailed population "
   ]
  },
  {
   "cell_type": "code",
   "execution_count": 3,
   "metadata": {},
   "outputs": [
    {
     "name": "stdout",
     "output_type": "stream",
     "text": [
      "test-statistic = 1.38\n",
      "two tailed p-value = 0.0848\n"
     ]
    }
   ],
   "source": [
    "from scipy.stats import ttest_ind\n",
    "\n",
    "# Generate two random samples from a normal distribution with the same mean and standard deviation.\n",
    "sample1 = np.random.normal(2.48,0.500,50)\n",
    "sample2 = np.random.normal(2.48,0.500,50)\n",
    "\n",
    "# perform the hypothesis test. output is a Python tuple that contains test_statistic and the two-sided P_value.\n",
    "test_statistic, p_value = ttest_ind(sample1, sample2)\n",
    "\n",
    "# To perform a one-tailed test, divide the two-tailed p-value by 2.\n",
    "p_value = p_value/2\n",
    "\n",
    "print(\"test-statistic =\", round(test_statistic,2))\n",
    "print(\"two tailed p-value =\", round(p_value,4))\n",
    "\n",
    "\n"
   ]
  }
 ],
 "metadata": {
  "kernelspec": {
   "display_name": "Python 3",
   "language": "python",
   "name": "python3"
  },
  "language_info": {
   "codemirror_mode": {
    "name": "ipython",
    "version": 3
   },
   "file_extension": ".py",
   "mimetype": "text/x-python",
   "name": "python",
   "nbconvert_exporter": "python",
   "pygments_lexer": "ipython3",
   "version": "3.12.4"
  }
 },
 "nbformat": 4,
 "nbformat_minor": 2
}
