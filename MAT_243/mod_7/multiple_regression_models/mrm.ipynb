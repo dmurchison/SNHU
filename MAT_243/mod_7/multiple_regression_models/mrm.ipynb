{
 "cells": [
  {
   "cell_type": "markdown",
   "metadata": {},
   "source": [
    "# Python-Practice 7.1.1: Multiple regression models.\n",
    "\n",
    "Consider the body fat dataset and a model where the response variable Y is percent body fat and the predictor variables `X_1` = triceps skinfold thickness (mm) and `X_2` = midarm circumference (cm). The model is constructed using the code below."
   ]
  },
  {
   "cell_type": "code",
   "execution_count": 1,
   "metadata": {},
   "outputs": [
    {
     "name": "stdout",
     "output_type": "stream",
     "text": [
      "                            OLS Regression Results                            \n",
      "==============================================================================\n",
      "Dep. Variable:                      Y   R-squared:                       0.786\n",
      "Model:                            OLS   Adj. R-squared:                  0.761\n",
      "Method:                 Least Squares   F-statistic:                     31.25\n",
      "Date:                Mon, 21 Oct 2024   Prob (F-statistic):           2.02e-06\n",
      "Time:                        12:17:49   Log-Likelihood:                -45.050\n",
      "No. Observations:                  20   AIC:                             96.10\n",
      "Df Residuals:                      17   BIC:                             99.09\n",
      "Df Model:                           2                                         \n",
      "Covariance Type:            nonrobust                                         \n",
      "=================================================================================================\n",
      "                                    coef    std err          t      P>|t|      [0.025      0.975]\n",
      "-------------------------------------------------------------------------------------------------\n",
      "Intercept                         6.7916      4.488      1.513      0.149      -2.678      16.261\n",
      "triceps_skinfold_thickness_mm     1.0006      0.128      7.803      0.000       0.730       1.271\n",
      "midarm_circumference_cm          -0.4314      0.177     -2.443      0.026      -0.804      -0.059\n",
      "==============================================================================\n",
      "Omnibus:                        1.363   Durbin-Watson:                   2.371\n",
      "Prob(Omnibus):                  0.506   Jarque-Bera (JB):                0.873\n",
      "Skew:                           0.068   Prob(JB):                        0.646\n",
      "Kurtosis:                       1.985   Cond. No.                         304.\n",
      "==============================================================================\n",
      "\n",
      "Notes:\n",
      "[1] Standard Errors assume that the covariance matrix of the errors is correctly specified.\n"
     ]
    }
   ],
   "source": [
    "import pandas as pd\n",
    "from statsmodels.formula.api import ols\n",
    "\n",
    "fat = pd.read_csv('https://static-resources.zybooks.com/static/fat.csv')\n",
    "\n",
    "Y = fat['body_fat_percent']\n",
    "\n",
    "m12 = ols('Y ~ triceps_skinfold_thickness_mm + midarm_circumference_cm', data = fat).fit()\n",
    "print(m12.summary())"
   ]
  },
  {
   "cell_type": "markdown",
   "metadata": {},
   "source": [
    "## Summary\n",
    "\n",
    "- R-squared measures the proportion of total variation in Y that is accounted for by the multiple regression model, which is 0.786. Adj. R-squared is an adjustment to R-squared that allows alternative models for the same response variable to be compared. F-statistic and Prob (F-statistic) tests whether no linear regression relationship exists between Y and the the set `{X_1,X_2}`.\n",
    "\n",
    "- The coef column in the table below are the estimates for the parameters.\n",
    "    - `b_0 = 6.7916`\n",
    "    - `b_1 = 1.0006`\n",
    "    - `b_2 = -0.4314`\n",
    "- The equation for the model is `\\hat{Y} = 6.7916 + 1.0006(X_1) - 0.4314(X_2)`. \n",
    "- The std err column contains standard errors of the regression parameter estimators, which measure the precision of the estimators. \n",
    "- The t column contains individual t-statistics for the regression parameter estimators, equal to each estimate divided by its standard error. \n",
    "- The next column contains individual p-values for the regression parameter estimators, equal to the sum of the tail areas beyond the t-statistic. \n",
    "    - The last two columns give the lower and upper bounds of the 95% confidence interval."
   ]
  },
  {
   "cell_type": "markdown",
   "metadata": {},
   "source": [
    "# Analysis of Variance Table\n",
    "\n",
    "The mean standard error and standard residual error can be obtained using an analysis of variance table. Consider the body fat dataset and a model where the response variable `Y` is percent body fat and the two predictor variables are `X_1=` is triceps skinfold thickness (mm) and `X_2=` midarm circumference (cm).\n",
    "\n",
    "In the output, the `sum_sq` column gives the SSR and SSE, which are 389.455334 and 105.934166 respectively. 389.455334 is the variation in percent body fat explained by the variation in triceps skinfold thickness and midarm circumference. 105.934166 is the variation in percent body fat unexplained by the variation in triceps skinfold thickness and midarm circumference.\n",
    "\n",
    "The mean square residual can be obtained by dividing SSE = 105.934166 by N-p = 20-3 = 17, which is also given by the residual degrees of freedom, dfE in the `df` column. Using these values yields the mean square residual.\n",
    "\n",
    "```math\n",
    "MSE = \\dfrac{SSE}{N - p} = \\dfrac{105.934166}{20 - 3} = 6.231\n",
    "```\n",
    "\n",
    "Thus the residual standard error is...\n",
    "\n",
    "```math\n",
    "RMSE = \\sqrt{MSE} = \\sqrt{6.231421} = 2.496\n",
    "```\n"
   ]
  },
  {
   "cell_type": "code",
   "execution_count": 28,
   "metadata": {},
   "outputs": [
    {
     "name": "stdout",
     "output_type": "stream",
     "text": [
      "                sum_sq    df          F    PR(>F)\n",
      "Regression  389.455334   2.0  31.249317  0.000002\n",
      "Residual    105.934166  17.0        NaN       NaN\n",
      "p-value for the F-statistic: 2.021895311507621e-06\n",
      "sse: 105.93416604723377\n",
      "389.4553339527661\n",
      "6.231421532190222\n",
      "2.496281541050653\n"
     ]
    }
   ],
   "source": [
    "import pandas as pd\n",
    "import statsmodels.api as sm\n",
    "from statsmodels.formula.api import ols\n",
    "\n",
    "fat = pd.read_csv('fat.csv')\n",
    "\n",
    "Regression = fat[['triceps_skinfold_thickness_mm', 'midarm_circumference_cm']]\n",
    "\n",
    "Y = fat['body_fat_percent']\n",
    "\n",
    "m12 = ols('Y ~ Regression', fat).fit()\n",
    "\n",
    "print(sm.stats.anova_lm(m12, typ=2))\n",
    "\n",
    "# Find the sum of squared errors\n",
    "sse = m12.ssr\n",
    "print(\"sse:\", sse)\n",
    "\n",
    "# Find the sum of squared residuals\n",
    "ssr = m12.ess\n",
    "print(ssr)\n",
    "\n",
    "# Find the mean squared error\n",
    "mse = m12.mse_resid\n",
    "print(mse)\n",
    "\n",
    "# Find the root mean squared error\n",
    "rmse = mse ** 0.5\n",
    "print(rmse)\n",
    "\n",
    "\n"
   ]
  },
  {
   "cell_type": "code",
   "execution_count": 34,
   "metadata": {},
   "outputs": [
    {
     "name": "stdout",
     "output_type": "stream",
     "text": [
      "MSE:  6.1503055\n",
      "RMSE:  2.4799809475074603\n"
     ]
    }
   ],
   "source": [
    "# In python, to find the RMSE, we can use the following code:\n",
    "from math import sqrt\n",
    "\n",
    "ssr = 369.984612\n",
    "sse = 98.404888\n",
    "n = 20  # Corrected sample size\n",
    "\n",
    "p = 3  # Number of predictors\n",
    "\n",
    "mse = sse / (n - p - 1)\n",
    "\n",
    "rmse = sqrt(mse)\n",
    "\n",
    "print(\"MSE: \", mse)\n",
    "print(\"RMSE: \",rmse)\n",
    "\n"
   ]
  }
 ],
 "metadata": {
  "kernelspec": {
   "display_name": "3.12.4",
   "language": "python",
   "name": "python3"
  },
  "language_info": {
   "codemirror_mode": {
    "name": "ipython",
    "version": 3
   },
   "file_extension": ".py",
   "mimetype": "text/x-python",
   "name": "python",
   "nbconvert_exporter": "python",
   "pygments_lexer": "ipython3",
   "version": "3.12.4"
  }
 },
 "nbformat": 4,
 "nbformat_minor": 2
}
