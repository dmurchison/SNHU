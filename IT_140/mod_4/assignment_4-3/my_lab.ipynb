{
 "cells": [
  {
   "cell_type": "markdown",
   "metadata": {},
   "source": [
    "# IT 140 Module Four Assignment Guidelines and Rubric\n",
    "\n",
    "## Overview\n",
    "\n",
    "In this assignment, you will gain more practice with designing a program. Specifically, you will create pseudocode for a higher/lower game. This will give you practice designing a more complex program and allow you to see more of the benefits that designing before coding can offer. The higher/lower game will combine different programming constructs that you have been learning about, such as input and output, decision branching, and a loop.\n",
    "\n",
    "### Higher/Lower Game Description\n",
    "\n",
    "Your friend Maria has come to you and said that she has been playing the higher/lower game with her three-year-old daughter Bella. Maria tells Bella that she is thinking of a number between 1 and 10, and then Bella tries to guess the number. When Bella guesses a number, Maria tells her whether the number she is thinking of is higher or lower or if Bella guessed it. The game continues until Bella guesses the right number. As much as Maria likes playing the game with Bella, Bella is very excited to play the game all the time. Maria thought it would be great if you could create a program that allows Bella to play the game as much as she wants.\n",
    "\n",
    "## Prompt\n",
    "\n",
    "For this assignment, you will be designing pseudocode for a higher/lower game program. The higher/lower game program uses similar constructs to the game you will design and develop in Projects One and Two.\n",
    "\n",
    "1. Review the Higher/Lower Game Sample Output PDF for more detailed examples of this game. As you read, consider the following questions:\n",
    "  - What are the different steps needed in this program? How can you break them down in a way that a computer can understand?\n",
    "  - What information would you need from the user at each point (inputs)? What information would you output to the user at each point?\n",
    "  - When might it be a good idea to use “IF” and “IF ELSE” statements?\n",
    "  - When might it be a good idea to use loops?\n",
    "2. Create pseudocode that logically outlines each step of the game program so that it meets the following functionality:\n",
    "  - Prompts the user to input the lower bound and upper bound. Include input validation to ensure that the lower bound is less than the upper bound.\n",
    "  - Generates a random number between the lower and upper bounds\n",
    "  - Prompts the user to input a guess between the lower and upper bounds. Include input validation to ensure that the user only enters values between the lower and upper bound.\n",
    "  - Prints an output statement based on the guessed number. Be sure to account for each of the following situations through the use of decision branching:\n",
    "    - What should the computer output if the user guesses a number that is too low?\n",
    "    - What should the computer output if the user guesses a number that is too high?\n",
    "    - What should the computer output if the user guesses the right number?\n",
    "  - Loops so that the game continues prompting the user for a new number until the user guesses the correct number.\n",
    "3. OPTIONAL: If you would like to practice turning your designs into code, check out the optional 9.1 LAB: Higher/Lower Game in zyBooks. This step is optional, but will give you additional practice turning designs into code, which will support your work in moving from Project One to Project Two."
   ]
  },
  {
   "cell_type": "markdown",
   "metadata": {},
   "source": [
    "# Pseudocode\n",
    "\n",
    "```\n",
    "# Program: Higher/Lower Game\n",
    "\n",
    "# Input: Lower bound, upper bound, guess\n",
    "# Output: Message to user\n",
    "\n",
    "1. Prompts the user to input the lower bound and upper bound. Include input validation to ensure that the lower bound is less than the upper bound.\n",
    "  - Output: \"Enter the lower bound:\"\n",
    "  - Output: \"Enter the upper bound:\"\n",
    "    - IF lower bound is greater than or equal to the upper bound\n",
    "    - Output: \"The lower bound must be less than the upper bound.\"\n",
    "    - Go back to step 1\n",
    "2. Generates a random number between the lower and upper bounds\n",
    "  - random_number = random number between lower bound and upper bound\n",
    "4. Prompts the user to input a guess between the lower and upper bounds. Include input validation to ensure that the user only enters values between the lower and upper bound.\n",
    "  - Output: \"Enter your guess:\"\n",
    "5. Prints an output statement based on the guessed number. Be sure to account for each of the following situations through the use of decision branching:\n",
    "  - IF guess is less than the random number\n",
    "    - Output: \"Too low!\"\n",
    "    - Go back to step 4\n",
    "  - IF guess is greater than the random number\n",
    "    - Output: \"Too high!\"\n",
    "    - Go back to step 4\n",
    "  - IF guess is equal to the random number\n",
    "    - Output: \"You guessed it!\"\n",
    "```"
   ]
  },
  {
   "cell_type": "code",
   "execution_count": null,
   "metadata": {},
   "outputs": [
    {
     "name": "stdout",
     "output_type": "stream",
     "text": [
      "Invalid input. The lower bound must be less than the upper bound.\n"
     ]
    },
    {
     "ename": "ValueError",
     "evalue": "empty range in randrange(5, 3)",
     "output_type": "error",
     "traceback": [
      "\u001b[0;31m---------------------------------------------------------------------------\u001b[0m",
      "\u001b[0;31mValueError\u001b[0m                                Traceback (most recent call last)",
      "Cell \u001b[0;32mIn[1], line 12\u001b[0m\n\u001b[1;32m      9\u001b[0m     exit()\n\u001b[1;32m     11\u001b[0m \u001b[38;5;66;03m# Generate the random number\u001b[39;00m\n\u001b[0;32m---> 12\u001b[0m random_number \u001b[38;5;241m=\u001b[39m \u001b[43mrandom\u001b[49m\u001b[38;5;241;43m.\u001b[39;49m\u001b[43mrandint\u001b[49m\u001b[43m(\u001b[49m\u001b[43mlower_bound\u001b[49m\u001b[43m,\u001b[49m\u001b[43m \u001b[49m\u001b[43mupper_bound\u001b[49m\u001b[43m)\u001b[49m\n\u001b[1;32m     14\u001b[0m \u001b[38;5;66;03m# Create loop to prompt the user to guess the number\u001b[39;00m\n\u001b[1;32m     15\u001b[0m guess \u001b[38;5;241m=\u001b[39m \u001b[38;5;28;01mNone\u001b[39;00m\n",
      "File \u001b[0;32m~/.pyenv/versions/3.12.4/lib/python3.12/random.py:336\u001b[0m, in \u001b[0;36mRandom.randint\u001b[0;34m(self, a, b)\u001b[0m\n\u001b[1;32m    332\u001b[0m \u001b[38;5;28;01mdef\u001b[39;00m \u001b[38;5;21mrandint\u001b[39m(\u001b[38;5;28mself\u001b[39m, a, b):\n\u001b[1;32m    333\u001b[0m \u001b[38;5;250m    \u001b[39m\u001b[38;5;124;03m\"\"\"Return random integer in range [a, b], including both end points.\u001b[39;00m\n\u001b[1;32m    334\u001b[0m \u001b[38;5;124;03m    \"\"\"\u001b[39;00m\n\u001b[0;32m--> 336\u001b[0m     \u001b[38;5;28;01mreturn\u001b[39;00m \u001b[38;5;28;43mself\u001b[39;49m\u001b[38;5;241;43m.\u001b[39;49m\u001b[43mrandrange\u001b[49m\u001b[43m(\u001b[49m\u001b[43ma\u001b[49m\u001b[43m,\u001b[49m\u001b[43m \u001b[49m\u001b[43mb\u001b[49m\u001b[38;5;241;43m+\u001b[39;49m\u001b[38;5;241;43m1\u001b[39;49m\u001b[43m)\u001b[49m\n",
      "File \u001b[0;32m~/.pyenv/versions/3.12.4/lib/python3.12/random.py:319\u001b[0m, in \u001b[0;36mRandom.randrange\u001b[0;34m(self, start, stop, step)\u001b[0m\n\u001b[1;32m    317\u001b[0m     \u001b[38;5;28;01mif\u001b[39;00m width \u001b[38;5;241m>\u001b[39m \u001b[38;5;241m0\u001b[39m:\n\u001b[1;32m    318\u001b[0m         \u001b[38;5;28;01mreturn\u001b[39;00m istart \u001b[38;5;241m+\u001b[39m \u001b[38;5;28mself\u001b[39m\u001b[38;5;241m.\u001b[39m_randbelow(width)\n\u001b[0;32m--> 319\u001b[0m     \u001b[38;5;28;01mraise\u001b[39;00m \u001b[38;5;167;01mValueError\u001b[39;00m(\u001b[38;5;124mf\u001b[39m\u001b[38;5;124m\"\u001b[39m\u001b[38;5;124mempty range in randrange(\u001b[39m\u001b[38;5;132;01m{\u001b[39;00mstart\u001b[38;5;132;01m}\u001b[39;00m\u001b[38;5;124m, \u001b[39m\u001b[38;5;132;01m{\u001b[39;00mstop\u001b[38;5;132;01m}\u001b[39;00m\u001b[38;5;124m)\u001b[39m\u001b[38;5;124m\"\u001b[39m)\n\u001b[1;32m    321\u001b[0m \u001b[38;5;66;03m# Non-unit step argument supplied.\u001b[39;00m\n\u001b[1;32m    322\u001b[0m \u001b[38;5;28;01mif\u001b[39;00m istep \u001b[38;5;241m>\u001b[39m \u001b[38;5;241m0\u001b[39m:\n",
      "\u001b[0;31mValueError\u001b[0m: empty range in randrange(5, 3)"
     ]
    },
    {
     "ename": "",
     "evalue": "",
     "output_type": "error",
     "traceback": [
      "\u001b[1;31mThe Kernel crashed while executing code in the current cell or a previous cell. \n",
      "\u001b[1;31mPlease review the code in the cell(s) to identify a possible cause of the failure. \n",
      "\u001b[1;31mClick <a href='https://aka.ms/vscodeJupyterKernelCrash'>here</a> for more info. \n",
      "\u001b[1;31mView Jupyter <a href='command:jupyter.viewOutput'>log</a> for further details."
     ]
    }
   ],
   "source": [
    "import random\n",
    "# First, prompt the user to input the lower and upper bounds of the range of numbers to be generated.\n",
    "lower_bound = int(input(\"Enter the lower bound: \"))\n",
    "upper_bound = int(input(\"Enter the upper bound: \"))\n",
    "\n",
    "# Validate the input\n",
    "if lower_bound > upper_bound:\n",
    "    print(\"Invalid input. The lower bound must be less than the upper bound.\")\n",
    "    exit()\n",
    "\n",
    "# Generate the random number\n",
    "random_number = random.randint(lower_bound, upper_bound)\n",
    "\n",
    "# Create loop to prompt the user to guess the number\n",
    "guess = None\n",
    "while guess != random_number:\n",
    "    guess = int(input(f\"Guess a number between {lower_bound} and {upper_bound}: \"))\n",
    "    if guess < random_number:\n",
    "        print(\"Too low!\")\n",
    "    elif guess > random_number:\n",
    "        print(\"Too high!\")\n",
    "    else:\n",
    "        print(\"You got it!\")\n",
    "        break\n"
   ]
  }
 ],
 "metadata": {
  "kernelspec": {
   "display_name": "3.12.4",
   "language": "python",
   "name": "python3"
  },
  "language_info": {
   "codemirror_mode": {
    "name": "ipython",
    "version": 3
   },
   "file_extension": ".py",
   "mimetype": "text/x-python",
   "name": "python",
   "nbconvert_exporter": "python",
   "pygments_lexer": "ipython3",
   "version": "3.12.4"
  }
 },
 "nbformat": 4,
 "nbformat_minor": 2
}
