{
 "cells": [
  {
   "cell_type": "markdown",
   "metadata": {},
   "source": [
    "# 2.12 LAB: Name format\n",
    "\n",
    "Many documents use a specific format for a person's name. Write a program that reads a person's name in the following format:\n",
    "\n",
    "firstName middleName lastName (in one line)\n",
    "\n",
    "and outputs the person's name in the following format:\n",
    "\n",
    "lastName, firstInitial.middleInitial.\n",
    "\n",
    "Ex: If the input is:\n",
    "\n",
    "Pat Silly Doe\n",
    "the output is:\n",
    "\n",
    "Doe, P.S.\n",
    "If the input has the following format:\n",
    "\n",
    "firstName lastName (in one line)\n",
    "\n",
    "the output is:\n",
    "\n",
    "lastName, firstInitial.\n",
    "\n",
    "Ex: If the input is:\n",
    "\n",
    "Julia Clark\n",
    "the output is:\n",
    "\n",
    "Clark, J."
   ]
  },
  {
   "cell_type": "code",
   "execution_count": null,
   "metadata": {},
   "outputs": [
    {
     "name": "stdout",
     "output_type": "stream",
     "text": [
      "Murchison,D.\n"
     ]
    }
   ],
   "source": [
    "name = input(\"What is your name? \")\n",
    "\n",
    "if len(name.split()) == 3:\n",
    "\tfirstName, middleName, lastName = name.split()\n",
    "\tprint(lastName + \", \" + firstName[0] + \".\" + middleName[0] + \".\")\n",
    "elif len(name.split()) == 2:\n",
    "    firstName, lastName = name.split()\n",
    "    print(lastName + \", \" + firstName[0] + \".\")"
   ]
  },
  {
   "cell_type": "markdown",
   "metadata": {},
   "source": [
    "# 2.13 LAB: Count characters\n",
    "\n",
    "Write a program whose input is a string which contains a character and a phrase, and whose output indicates the number of times the character appears in the phrase.\n",
    "\n",
    "Ex: If the input is:\n",
    "\n",
    "n Monday\n",
    "the output is:\n",
    "\n",
    "1\n",
    "Ex: If the input is:\n",
    "\n",
    "z Today is Monday\n",
    "the output is:\n",
    "\n",
    "0\n",
    "Ex: If the input is:\n",
    "\n",
    "n It's a sunny day\n",
    "the output is:\n",
    "\n",
    "2\n",
    "Case matters.\n",
    "\n",
    "Ex: If the input is:\n",
    "\n",
    "n Nobody\n",
    "the output is:\n",
    "\n",
    "0\n",
    "n is different than N."
   ]
  },
  {
   "cell_type": "code",
   "execution_count": 1,
   "metadata": {},
   "outputs": [
    {
     "name": "stdout",
     "output_type": "stream",
     "text": [
      "False\n",
      "1\n"
     ]
    }
   ],
   "source": [
    "ex_str = \"h Hello my cat is on fire\"\n",
    "\n",
    "if ex_str[0] in ex_str[1:]:\n",
    "    print(\"True\")\n",
    "else:\n",
    "    print(\"False\")\n",
    "\n",
    "char_to_count = 'h'\n",
    "count = ex_str.count(char_to_count)\n",
    "print(count)\n",
    "\n",
    "name = input(\"What is your name? \")\n",
    "\n",
    "if len(name.split()) == 3:\n",
    "\tfirstName, middleName, lastName = name.split()\n",
    "\tprint(lastName + \", \" + firstName[0] + \".\" + middleName[0] + \".\")\n",
    "elif len(name.split()) == 2:\n",
    "    firstName, lastName = name.split()\n",
    "    print(lastName + \", \" + firstName[0] + \".\")\n"
   ]
  }
 ],
 "metadata": {
  "kernelspec": {
   "display_name": "3.12.4",
   "language": "python",
   "name": "python3"
  },
  "language_info": {
   "codemirror_mode": {
    "name": "ipython",
    "version": 3
   },
   "file_extension": ".py",
   "mimetype": "text/x-python",
   "name": "python",
   "nbconvert_exporter": "python",
   "pygments_lexer": "ipython3",
   "version": "3.12.4"
  }
 },
 "nbformat": 4,
 "nbformat_minor": 2
}
